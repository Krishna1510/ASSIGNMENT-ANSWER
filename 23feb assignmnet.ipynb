{
 "cells": [
  {
   "cell_type": "code",
   "execution_count": 1,
   "id": "cc85128b-8dc2-4f16-8fb5-c569ff36bfeb",
   "metadata": {},
   "outputs": [
    {
     "name": "stdout",
     "output_type": "stream",
     "text": [
      "0     4\n",
      "1     8\n",
      "2    15\n",
      "3    16\n",
      "4    23\n",
      "5    42\n",
      "dtype: int64\n"
     ]
    }
   ],
   "source": [
    "# ANS 1\n",
    "import pandas as pd\n",
    "\n",
    "# create a series of integers\n",
    "list = pd.Series([4,8,15,16,23,42])\n",
    "print(list)"
   ]
  },
  {
   "cell_type": "code",
   "execution_count": 2,
   "id": "6cea9ddf-ff54-482c-9792-8352fa900e7e",
   "metadata": {},
   "outputs": [
    {
     "name": "stdout",
     "output_type": "stream",
     "text": [
      "0    h\n",
      "1    d\n",
      "2    y\n",
      "3    h\n",
      "4    i\n",
      "5    d\n",
      "6    l\n",
      "7    k\n",
      "8    l\n",
      "9    h\n",
      "dtype: object\n"
     ]
    }
   ],
   "source": [
    "# ANS 2\n",
    "import pandas as pd\n",
    "\n",
    "series_var = pd.Series(['h','d','y','h','i','d','l','k','l','h'])\n",
    "print(series_var)"
   ]
  },
  {
   "cell_type": "code",
   "execution_count": 13,
   "id": "8d69c49a-eaa1-4b35-a13c-5fbd2436ce0f",
   "metadata": {},
   "outputs": [
    {
     "name": "stdout",
     "output_type": "stream",
     "text": [
      "     Name  Age  Gender\n",
      "0   Alice   25  Female\n",
      "1     Bob   30    Male\n",
      "2  Claire   27  Female\n"
     ]
    }
   ],
   "source": [
    "# ANS 3\n",
    "\n",
    "import pandas as pd \n",
    "data = {'Name': ['Alice', 'Bob', 'Claire'],\n",
    "        'Age': [25 , 30 , 27 ] ,\n",
    "        'Gender' : ['Female' , 'Male' , 'Female' ]}\n",
    "df = pd.DataFrame(data)\n",
    "print(df)"
   ]
  },
  {
   "cell_type": "code",
   "execution_count": 16,
   "id": "665cb5a2-2b5a-4e89-a7bd-3f487ccdbe38",
   "metadata": {},
   "outputs": [
    {
     "data": {
      "text/plain": [
       "pandas.core.frame.DataFrame"
      ]
     },
     "execution_count": 16,
     "metadata": {},
     "output_type": "execute_result"
    }
   ],
   "source": [
    "type(df)"
   ]
  },
  {
   "cell_type": "markdown",
   "id": "1e0567f7-1afc-4985-acc3-a0da6ff6111b",
   "metadata": {},
   "source": [
    "# ANS 4\n",
    "\n",
    "Series is a one-dimensional labeled array capable of holding any data\n",
    "type (integers, strings, floating point numbers, Python objects, etc.)\n",
    "\n",
    "DataFrame is a 2-dimensional labeled data structure with columns of potentially different types. \n",
    "It is like a spreadsheet or SQL table, or a dict of Series objects. It is generally the most commonly used pandas object. \n",
    "\n"
   ]
  },
  {
   "cell_type": "code",
   "execution_count": 20,
   "id": "d2224d0d-7160-4079-b749-2aff66c63e7e",
   "metadata": {},
   "outputs": [
    {
     "name": "stdout",
     "output_type": "stream",
     "text": [
      "0     apples\n",
      "1    oranges\n",
      "2    bananas\n",
      "Name: fruit_series, dtype: object\n"
     ]
    }
   ],
   "source": [
    "import pandas\n",
    "\n",
    "fruit = pandas.Series([\"apples\", \"oranges\", \"bananas\"], name = \"fruit_series\")\n",
    "\n",
    "\n",
    "print(fruit)"
   ]
  },
  {
   "cell_type": "code",
   "execution_count": 21,
   "id": "36f3c242-a572-4d00-bd16-3ea687ea69af",
   "metadata": {},
   "outputs": [
    {
     "data": {
      "text/plain": [
       "pandas.core.series.Series"
      ]
     },
     "execution_count": 21,
     "metadata": {},
     "output_type": "execute_result"
    }
   ],
   "source": [
    "type(fruit)"
   ]
  },
  {
   "cell_type": "code",
   "execution_count": 22,
   "id": "f5fe8be0-ee61-49be-b949-6a433820f2ea",
   "metadata": {},
   "outputs": [
    {
     "name": "stdout",
     "output_type": "stream",
     "text": [
      "    Jack's        John's\n",
      "a   apples        guavas\n",
      "b  oranges         kiwis\n",
      "c  bananas  strawberries\n"
     ]
    }
   ],
   "source": [
    "import pandas as pd\n",
    "\n",
    "##### INITIALIZATION #####\n",
    "\n",
    "fruits_jack = [\"apples\", \"oranges\", \"bananas\"]\n",
    "fruits_john = [\"guavas\", \"kiwis\", \"strawberries\"]\n",
    "index = [\"a\", \"b\", \"c\"]\n",
    "all_fruits = {\"Jack's\": fruits_jack, \"John's\": fruits_john}\n",
    "\n",
    "\n",
    "\n",
    "new_fruits = pd.DataFrame(all_fruits, index = index)\n",
    "print(new_fruits )"
   ]
  },
  {
   "cell_type": "code",
   "execution_count": 23,
   "id": "20382bb9-245f-49ce-b2dc-5a8936b9f9bb",
   "metadata": {},
   "outputs": [
    {
     "data": {
      "text/plain": [
       "pandas.core.frame.DataFrame"
      ]
     },
     "execution_count": 23,
     "metadata": {},
     "output_type": "execute_result"
    }
   ],
   "source": [
    "type(new_fruits)"
   ]
  },
  {
   "cell_type": "markdown",
   "id": "52c66a72-d694-466e-8acd-172a6e617be7",
   "metadata": {},
   "source": [
    "###  ANS5\n",
    "\n",
    "    Some commonly used function to maipulate data are as follows :\n",
    "    df.head()\n",
    "    df.columns\n",
    "    len(df)\n",
    "    df.drop()\n",
    "    df[‘’].dtypes\n",
    "    df.tail()\n",
    "    "
   ]
  },
  {
   "cell_type": "markdown",
   "id": "ee585327-45f8-4297-b437-0fe6dc4f2192",
   "metadata": {},
   "source": [
    " # example  \n",
    " \n",
    ".len()Provides with the length of the DataFrame. "
   ]
  },
  {
   "cell_type": "code",
   "execution_count": 25,
   "id": "8c30fa0f-a120-462b-9ac0-fcdb592a4208",
   "metadata": {},
   "outputs": [
    {
     "data": {
      "text/plain": [
       "3"
      ]
     },
     "execution_count": 25,
     "metadata": {},
     "output_type": "execute_result"
    }
   ],
   "source": [
    "len(new_fruits)"
   ]
  },
  {
   "cell_type": "markdown",
   "id": "c880a790-1df0-4969-8eb1-8c3216eba9e9",
   "metadata": {},
   "source": [
    "# Ans6\n",
    "\n",
    "Both series and data frames are mutable .\n"
   ]
  },
  {
   "cell_type": "markdown",
   "id": "c2ba100d-2d98-4155-b6f1-4edc86bd64fe",
   "metadata": {},
   "source": [
    "### Ans 7"
   ]
  },
  {
   "cell_type": "code",
   "execution_count": 35,
   "id": "8e0fd83f-248d-4498-89b2-d40e0ebaad89",
   "metadata": {},
   "outputs": [
    {
     "name": "stdout",
     "output_type": "stream",
     "text": [
      "   Course   Fees   Discount\n",
      "0    Spark  22000      1000\n",
      "1  PySpark  25000      2300\n",
      "2   Hadoop  23000      1000\n"
     ]
    }
   ],
   "source": [
    "\n",
    "import pandas as pd\n",
    "\n",
    "courses = pd.Series([\"Spark\",\"PySpark\",\"Hadoop\"] ,name = 'Course ' )\n",
    "fees = pd.Series([22000,25000,23000] , name = 'Fees ')\n",
    "discount  = pd.Series([1000,2300,1000] , name = 'Discount')\n",
    "\n",
    "df=pd.concat([courses,fees,discount],axis=1)\n",
    "print(df)\n"
   ]
  },
  {
   "cell_type": "code",
   "execution_count": null,
   "id": "2e48c102-6e9b-4813-be4d-727f73ea7b69",
   "metadata": {},
   "outputs": [],
   "source": []
  }
 ],
 "metadata": {
  "kernelspec": {
   "display_name": "Python 3 (ipykernel)",
   "language": "python",
   "name": "python3"
  },
  "language_info": {
   "codemirror_mode": {
    "name": "ipython",
    "version": 3
   },
   "file_extension": ".py",
   "mimetype": "text/x-python",
   "name": "python",
   "nbconvert_exporter": "python",
   "pygments_lexer": "ipython3",
   "version": "3.10.8"
  }
 },
 "nbformat": 4,
 "nbformat_minor": 5
}
